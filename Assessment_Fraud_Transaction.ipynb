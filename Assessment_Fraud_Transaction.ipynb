{
  "cells": [
    {
      "cell_type": "code",
      "execution_count": 3,
      "metadata": {
        "id": "0cu_k05hB1Ui",
        "colab": {
          "base_uri": "https://localhost:8080/"
        },
        "outputId": "fbe92927-50a5-4fb4-b4bd-227f62dae78f"
      },
      "outputs": [
        {
          "output_type": "stream",
          "name": "stdout",
          "text": [
            "Drive already mounted at /content/drive; to attempt to forcibly remount, call drive.mount(\"/content/drive\", force_remount=True).\n"
          ]
        }
      ],
      "source": [
        "from google.colab import drive\n",
        "drive.mount('/content/drive')"
      ]
    },
    {
      "cell_type": "code",
      "execution_count": 4,
      "metadata": {
        "id": "iyvzQIu5ubUN"
      },
      "outputs": [],
      "source": [
        "# ----required Library\n",
        "import pandas as pd\n",
        "import numpy as np\n",
        "import seaborn as sns\n",
        "import matplotlib.pyplot as plt\n",
        "\n",
        "from sklearn import metrics\n",
        "from sklearn.metrics import accuracy_score\n",
        "\n",
        "import warnings\n",
        "warnings.filterwarnings(\"ignore\")"
      ]
    },
    {
      "cell_type": "code",
      "execution_count": 5,
      "metadata": {
        "id": "xSTW1QHCX7Pr"
      },
      "outputs": [],
      "source": [
        "df = pd.read_csv(\"/content/drive/MyDrive/dataset/Fraud.csv\")"
      ]
    },
    {
      "cell_type": "markdown",
      "source": [
        "\n",
        "\n",
        "```\n",
        "# ---------problem loading all values of dataset\n",
        "```\n",
        "\n"
      ],
      "metadata": {
        "id": "vf9IeDhkiDFR"
      }
    },
    {
      "cell_type": "code",
      "execution_count": 25,
      "metadata": {
        "id": "blZQC06fdArI",
        "colab": {
          "base_uri": "https://localhost:8080/",
          "height": 468
        },
        "outputId": "5be489f2-3328-4bf9-9120-68a3179f5ec8"
      },
      "outputs": [
        {
          "output_type": "execute_result",
          "data": {
            "text/plain": [
              "        step      type     amount     nameOrig  oldbalanceOrg  newbalanceOrig  \\\n",
              "0          1   PAYMENT    9839.64  C1231006815      170136.00       160296.36   \n",
              "1          1   PAYMENT    1864.28  C1666544295       21249.00        19384.72   \n",
              "2          1  TRANSFER     181.00  C1305486145         181.00            0.00   \n",
              "3          1  CASH_OUT     181.00   C840083671         181.00            0.00   \n",
              "4          1   PAYMENT   11668.14  C2048537720       41554.00        29885.86   \n",
              "...      ...       ...        ...          ...            ...             ...   \n",
              "872850    42   CASH_IN  115524.39   C318133495       21496.00       137020.39   \n",
              "872851    42  TRANSFER  427621.76  C1356866433      137020.39            0.00   \n",
              "872852    42  CASH_OUT  122654.14  C2066761451       16461.00            0.00   \n",
              "872853    42  TRANSFER  868754.37   C746266202      495706.00            0.00   \n",
              "872854    42  CASH_OUT  343657.99   C210413262        1661.00            0.00   \n",
              "\n",
              "           nameDest  oldbalanceDest  newbalanceDest  isFraud  isFlaggedFraud  \n",
              "0       M1979787155            0.00            0.00      0.0             0.0  \n",
              "1       M2044282225            0.00            0.00      0.0             0.0  \n",
              "2        C553264065            0.00            0.00      1.0             0.0  \n",
              "3         C38997010        21182.00            0.00      1.0             0.0  \n",
              "4       M1230701703            0.00            0.00      0.0             0.0  \n",
              "...             ...             ...             ...      ...             ...  \n",
              "872850  C1558670060            0.00            0.00      0.0             0.0  \n",
              "872851  C1100767002      6284593.39      6712215.15      0.0             0.0  \n",
              "872852   C511992520      1094493.03      1217147.16      0.0             0.0  \n",
              "872853  C1036125308       212858.53      1081612.90      0.0             0.0  \n",
              "872854  C1655976904            0.00       343657.99      0.0             0.0  \n",
              "\n",
              "[872855 rows x 11 columns]"
            ],
            "text/html": [
              "\n",
              "  <div id=\"df-450abf0e-f25c-4abd-910f-f3f955518a6f\">\n",
              "    <div class=\"colab-df-container\">\n",
              "      <div>\n",
              "<style scoped>\n",
              "    .dataframe tbody tr th:only-of-type {\n",
              "        vertical-align: middle;\n",
              "    }\n",
              "\n",
              "    .dataframe tbody tr th {\n",
              "        vertical-align: top;\n",
              "    }\n",
              "\n",
              "    .dataframe thead th {\n",
              "        text-align: right;\n",
              "    }\n",
              "</style>\n",
              "<table border=\"1\" class=\"dataframe\">\n",
              "  <thead>\n",
              "    <tr style=\"text-align: right;\">\n",
              "      <th></th>\n",
              "      <th>step</th>\n",
              "      <th>type</th>\n",
              "      <th>amount</th>\n",
              "      <th>nameOrig</th>\n",
              "      <th>oldbalanceOrg</th>\n",
              "      <th>newbalanceOrig</th>\n",
              "      <th>nameDest</th>\n",
              "      <th>oldbalanceDest</th>\n",
              "      <th>newbalanceDest</th>\n",
              "      <th>isFraud</th>\n",
              "      <th>isFlaggedFraud</th>\n",
              "    </tr>\n",
              "  </thead>\n",
              "  <tbody>\n",
              "    <tr>\n",
              "      <th>0</th>\n",
              "      <td>1</td>\n",
              "      <td>PAYMENT</td>\n",
              "      <td>9839.64</td>\n",
              "      <td>C1231006815</td>\n",
              "      <td>170136.00</td>\n",
              "      <td>160296.36</td>\n",
              "      <td>M1979787155</td>\n",
              "      <td>0.00</td>\n",
              "      <td>0.00</td>\n",
              "      <td>0.0</td>\n",
              "      <td>0.0</td>\n",
              "    </tr>\n",
              "    <tr>\n",
              "      <th>1</th>\n",
              "      <td>1</td>\n",
              "      <td>PAYMENT</td>\n",
              "      <td>1864.28</td>\n",
              "      <td>C1666544295</td>\n",
              "      <td>21249.00</td>\n",
              "      <td>19384.72</td>\n",
              "      <td>M2044282225</td>\n",
              "      <td>0.00</td>\n",
              "      <td>0.00</td>\n",
              "      <td>0.0</td>\n",
              "      <td>0.0</td>\n",
              "    </tr>\n",
              "    <tr>\n",
              "      <th>2</th>\n",
              "      <td>1</td>\n",
              "      <td>TRANSFER</td>\n",
              "      <td>181.00</td>\n",
              "      <td>C1305486145</td>\n",
              "      <td>181.00</td>\n",
              "      <td>0.00</td>\n",
              "      <td>C553264065</td>\n",
              "      <td>0.00</td>\n",
              "      <td>0.00</td>\n",
              "      <td>1.0</td>\n",
              "      <td>0.0</td>\n",
              "    </tr>\n",
              "    <tr>\n",
              "      <th>3</th>\n",
              "      <td>1</td>\n",
              "      <td>CASH_OUT</td>\n",
              "      <td>181.00</td>\n",
              "      <td>C840083671</td>\n",
              "      <td>181.00</td>\n",
              "      <td>0.00</td>\n",
              "      <td>C38997010</td>\n",
              "      <td>21182.00</td>\n",
              "      <td>0.00</td>\n",
              "      <td>1.0</td>\n",
              "      <td>0.0</td>\n",
              "    </tr>\n",
              "    <tr>\n",
              "      <th>4</th>\n",
              "      <td>1</td>\n",
              "      <td>PAYMENT</td>\n",
              "      <td>11668.14</td>\n",
              "      <td>C2048537720</td>\n",
              "      <td>41554.00</td>\n",
              "      <td>29885.86</td>\n",
              "      <td>M1230701703</td>\n",
              "      <td>0.00</td>\n",
              "      <td>0.00</td>\n",
              "      <td>0.0</td>\n",
              "      <td>0.0</td>\n",
              "    </tr>\n",
              "    <tr>\n",
              "      <th>...</th>\n",
              "      <td>...</td>\n",
              "      <td>...</td>\n",
              "      <td>...</td>\n",
              "      <td>...</td>\n",
              "      <td>...</td>\n",
              "      <td>...</td>\n",
              "      <td>...</td>\n",
              "      <td>...</td>\n",
              "      <td>...</td>\n",
              "      <td>...</td>\n",
              "      <td>...</td>\n",
              "    </tr>\n",
              "    <tr>\n",
              "      <th>872850</th>\n",
              "      <td>42</td>\n",
              "      <td>CASH_IN</td>\n",
              "      <td>115524.39</td>\n",
              "      <td>C318133495</td>\n",
              "      <td>21496.00</td>\n",
              "      <td>137020.39</td>\n",
              "      <td>C1558670060</td>\n",
              "      <td>0.00</td>\n",
              "      <td>0.00</td>\n",
              "      <td>0.0</td>\n",
              "      <td>0.0</td>\n",
              "    </tr>\n",
              "    <tr>\n",
              "      <th>872851</th>\n",
              "      <td>42</td>\n",
              "      <td>TRANSFER</td>\n",
              "      <td>427621.76</td>\n",
              "      <td>C1356866433</td>\n",
              "      <td>137020.39</td>\n",
              "      <td>0.00</td>\n",
              "      <td>C1100767002</td>\n",
              "      <td>6284593.39</td>\n",
              "      <td>6712215.15</td>\n",
              "      <td>0.0</td>\n",
              "      <td>0.0</td>\n",
              "    </tr>\n",
              "    <tr>\n",
              "      <th>872852</th>\n",
              "      <td>42</td>\n",
              "      <td>CASH_OUT</td>\n",
              "      <td>122654.14</td>\n",
              "      <td>C2066761451</td>\n",
              "      <td>16461.00</td>\n",
              "      <td>0.00</td>\n",
              "      <td>C511992520</td>\n",
              "      <td>1094493.03</td>\n",
              "      <td>1217147.16</td>\n",
              "      <td>0.0</td>\n",
              "      <td>0.0</td>\n",
              "    </tr>\n",
              "    <tr>\n",
              "      <th>872853</th>\n",
              "      <td>42</td>\n",
              "      <td>TRANSFER</td>\n",
              "      <td>868754.37</td>\n",
              "      <td>C746266202</td>\n",
              "      <td>495706.00</td>\n",
              "      <td>0.00</td>\n",
              "      <td>C1036125308</td>\n",
              "      <td>212858.53</td>\n",
              "      <td>1081612.90</td>\n",
              "      <td>0.0</td>\n",
              "      <td>0.0</td>\n",
              "    </tr>\n",
              "    <tr>\n",
              "      <th>872854</th>\n",
              "      <td>42</td>\n",
              "      <td>CASH_OUT</td>\n",
              "      <td>343657.99</td>\n",
              "      <td>C210413262</td>\n",
              "      <td>1661.00</td>\n",
              "      <td>0.00</td>\n",
              "      <td>C1655976904</td>\n",
              "      <td>0.00</td>\n",
              "      <td>343657.99</td>\n",
              "      <td>0.0</td>\n",
              "      <td>0.0</td>\n",
              "    </tr>\n",
              "  </tbody>\n",
              "</table>\n",
              "<p>872855 rows × 11 columns</p>\n",
              "</div>\n",
              "      <button class=\"colab-df-convert\" onclick=\"convertToInteractive('df-450abf0e-f25c-4abd-910f-f3f955518a6f')\"\n",
              "              title=\"Convert this dataframe to an interactive table.\"\n",
              "              style=\"display:none;\">\n",
              "        \n",
              "  <svg xmlns=\"http://www.w3.org/2000/svg\" height=\"24px\"viewBox=\"0 0 24 24\"\n",
              "       width=\"24px\">\n",
              "    <path d=\"M0 0h24v24H0V0z\" fill=\"none\"/>\n",
              "    <path d=\"M18.56 5.44l.94 2.06.94-2.06 2.06-.94-2.06-.94-.94-2.06-.94 2.06-2.06.94zm-11 1L8.5 8.5l.94-2.06 2.06-.94-2.06-.94L8.5 2.5l-.94 2.06-2.06.94zm10 10l.94 2.06.94-2.06 2.06-.94-2.06-.94-.94-2.06-.94 2.06-2.06.94z\"/><path d=\"M17.41 7.96l-1.37-1.37c-.4-.4-.92-.59-1.43-.59-.52 0-1.04.2-1.43.59L10.3 9.45l-7.72 7.72c-.78.78-.78 2.05 0 2.83L4 21.41c.39.39.9.59 1.41.59.51 0 1.02-.2 1.41-.59l7.78-7.78 2.81-2.81c.8-.78.8-2.07 0-2.86zM5.41 20L4 18.59l7.72-7.72 1.47 1.35L5.41 20z\"/>\n",
              "  </svg>\n",
              "      </button>\n",
              "      \n",
              "  <style>\n",
              "    .colab-df-container {\n",
              "      display:flex;\n",
              "      flex-wrap:wrap;\n",
              "      gap: 12px;\n",
              "    }\n",
              "\n",
              "    .colab-df-convert {\n",
              "      background-color: #E8F0FE;\n",
              "      border: none;\n",
              "      border-radius: 50%;\n",
              "      cursor: pointer;\n",
              "      display: none;\n",
              "      fill: #1967D2;\n",
              "      height: 32px;\n",
              "      padding: 0 0 0 0;\n",
              "      width: 32px;\n",
              "    }\n",
              "\n",
              "    .colab-df-convert:hover {\n",
              "      background-color: #E2EBFA;\n",
              "      box-shadow: 0px 1px 2px rgba(60, 64, 67, 0.3), 0px 1px 3px 1px rgba(60, 64, 67, 0.15);\n",
              "      fill: #174EA6;\n",
              "    }\n",
              "\n",
              "    [theme=dark] .colab-df-convert {\n",
              "      background-color: #3B4455;\n",
              "      fill: #D2E3FC;\n",
              "    }\n",
              "\n",
              "    [theme=dark] .colab-df-convert:hover {\n",
              "      background-color: #434B5C;\n",
              "      box-shadow: 0px 1px 3px 1px rgba(0, 0, 0, 0.15);\n",
              "      filter: drop-shadow(0px 1px 2px rgba(0, 0, 0, 0.3));\n",
              "      fill: #FFFFFF;\n",
              "    }\n",
              "  </style>\n",
              "\n",
              "      <script>\n",
              "        const buttonEl =\n",
              "          document.querySelector('#df-450abf0e-f25c-4abd-910f-f3f955518a6f button.colab-df-convert');\n",
              "        buttonEl.style.display =\n",
              "          google.colab.kernel.accessAllowed ? 'block' : 'none';\n",
              "\n",
              "        async function convertToInteractive(key) {\n",
              "          const element = document.querySelector('#df-450abf0e-f25c-4abd-910f-f3f955518a6f');\n",
              "          const dataTable =\n",
              "            await google.colab.kernel.invokeFunction('convertToInteractive',\n",
              "                                                     [key], {});\n",
              "          if (!dataTable) return;\n",
              "\n",
              "          const docLinkHtml = 'Like what you see? Visit the ' +\n",
              "            '<a target=\"_blank\" href=https://colab.research.google.com/notebooks/data_table.ipynb>data table notebook</a>'\n",
              "            + ' to learn more about interactive tables.';\n",
              "          element.innerHTML = '';\n",
              "          dataTable['output_type'] = 'display_data';\n",
              "          await google.colab.output.renderOutput(dataTable, element);\n",
              "          const docLink = document.createElement('div');\n",
              "          docLink.innerHTML = docLinkHtml;\n",
              "          element.appendChild(docLink);\n",
              "        }\n",
              "      </script>\n",
              "    </div>\n",
              "  </div>\n",
              "  "
            ]
          },
          "metadata": {},
          "execution_count": 25
        }
      ],
      "source": [
        "df"
      ]
    },
    {
      "cell_type": "markdown",
      "metadata": {
        "id": "gKR_-Ngfuv-d"
      },
      "source": [
        "**1. Data cleaning including missing values, outliers and multi-collinearity.**"
      ]
    },
    {
      "cell_type": "code",
      "execution_count": 24,
      "metadata": {
        "id": "UdYtv0fMbybU",
        "colab": {
          "base_uri": "https://localhost:8080/"
        },
        "outputId": "37d5c9c3-fd7a-4367-c41a-5ffc7a583d7b"
      },
      "outputs": [
        {
          "output_type": "stream",
          "name": "stdout",
          "text": [
            "(872855, 11)\n"
          ]
        }
      ],
      "source": [
        "print(df.shape)"
      ]
    },
    {
      "cell_type": "code",
      "execution_count": 8,
      "metadata": {
        "colab": {
          "base_uri": "https://localhost:8080/"
        },
        "id": "1I-24hWwb019",
        "outputId": "5d5e4dd4-32aa-4975-d361-97e57ecca709"
      },
      "outputs": [
        {
          "output_type": "stream",
          "name": "stdout",
          "text": [
            "                step        amount  oldbalanceOrg  newbalanceOrig  \\\n",
            "count  872855.000000  8.728550e+05   8.728550e+05    8.728550e+05   \n",
            "mean       22.508564  1.636046e+05   8.787303e+05    8.993699e+05   \n",
            "std        11.318985  2.644468e+05   2.977924e+06    3.014739e+06   \n",
            "min         1.000000  1.000000e-01   0.000000e+00    0.000000e+00   \n",
            "25%        13.000000  1.302999e+04   0.000000e+00    0.000000e+00   \n",
            "50%        18.000000  8.078102e+04   1.618200e+04    0.000000e+00   \n",
            "75%        35.000000  2.210624e+05   1.456865e+05    1.868462e+05   \n",
            "max        42.000000  1.000000e+07   3.893942e+07    3.894623e+07   \n",
            "\n",
            "       oldbalanceDest  newbalanceDest        isFraud  isFlaggedFraud  \n",
            "count    8.728550e+05    8.728550e+05  872855.000000        872855.0  \n",
            "mean     9.855127e+05    1.133610e+06       0.000561             0.0  \n",
            "std      2.311315e+06    2.441360e+06       0.023687             0.0  \n",
            "min      0.000000e+00    0.000000e+00       0.000000             0.0  \n",
            "25%      0.000000e+00    0.000000e+00       0.000000             0.0  \n",
            "50%      1.299740e+05    2.295899e+05       0.000000             0.0  \n",
            "75%      9.212094e+05    1.177563e+06       0.000000             0.0  \n",
            "max      4.148270e+07    4.205466e+07       1.000000             0.0  \n"
          ]
        }
      ],
      "source": [
        "print(df.describe())"
      ]
    },
    {
      "cell_type": "code",
      "execution_count": 9,
      "metadata": {
        "colab": {
          "base_uri": "https://localhost:8080/"
        },
        "id": "5It4XY5_b-d7",
        "outputId": "693bdc05-89c9-4bd5-ad1b-28fb6e7ccc8b"
      },
      "outputs": [
        {
          "output_type": "stream",
          "name": "stdout",
          "text": [
            "<class 'pandas.core.frame.DataFrame'>\n",
            "RangeIndex: 872855 entries, 0 to 872854\n",
            "Data columns (total 11 columns):\n",
            " #   Column          Non-Null Count   Dtype  \n",
            "---  ------          --------------   -----  \n",
            " 0   step            872855 non-null  int64  \n",
            " 1   type            872855 non-null  object \n",
            " 2   amount          872855 non-null  float64\n",
            " 3   nameOrig        872855 non-null  object \n",
            " 4   oldbalanceOrg   872855 non-null  float64\n",
            " 5   newbalanceOrig  872855 non-null  float64\n",
            " 6   nameDest        872855 non-null  object \n",
            " 7   oldbalanceDest  872855 non-null  float64\n",
            " 8   newbalanceDest  872855 non-null  float64\n",
            " 9   isFraud         872855 non-null  float64\n",
            " 10  isFlaggedFraud  872855 non-null  float64\n",
            "dtypes: float64(7), int64(1), object(3)\n",
            "memory usage: 73.3+ MB\n",
            "None\n"
          ]
        }
      ],
      "source": [
        "print(df.info())"
      ]
    },
    {
      "cell_type": "code",
      "source": [
        "print(df.isnull().sum())"
      ],
      "metadata": {
        "colab": {
          "base_uri": "https://localhost:8080/"
        },
        "id": "EYKjdf8yaVfg",
        "outputId": "bac9bb02-3fb7-4918-ebef-3231af41a8ed"
      },
      "execution_count": 10,
      "outputs": [
        {
          "output_type": "stream",
          "name": "stdout",
          "text": [
            "step              0\n",
            "type              0\n",
            "amount            0\n",
            "nameOrig          0\n",
            "oldbalanceOrg     0\n",
            "newbalanceOrig    0\n",
            "nameDest          0\n",
            "oldbalanceDest    0\n",
            "newbalanceDest    0\n",
            "isFraud           0\n",
            "isFlaggedFraud    0\n",
            "dtype: int64\n"
          ]
        }
      ]
    },
    {
      "cell_type": "code",
      "execution_count": 11,
      "metadata": {
        "id": "xPYr3rn336Q2"
      },
      "outputs": [],
      "source": [
        "#checking multi-collinearity"
      ]
    },
    {
      "cell_type": "code",
      "execution_count": 12,
      "metadata": {
        "id": "FOAet5A6LP-1"
      },
      "outputs": [],
      "source": [
        "dfc = df.copy()\n",
        "dfc['type']=dfc['type'].map({'PAYMENT':1 ,'TRANSFER':2, 'CASH_OUT':3, 'DEBIT':4, 'CASH_IN':5})\n",
        "\n",
        "# for machine readable > object to int"
      ]
    },
    {
      "cell_type": "code",
      "execution_count": 13,
      "metadata": {
        "id": "mV6Uv5bGL0ZI"
      },
      "outputs": [],
      "source": [
        "dfc = dfc.drop(columns = ['nameOrig','nameDest','isFraud','isFlaggedFraud'])"
      ]
    },
    {
      "cell_type": "code",
      "execution_count": 14,
      "metadata": {
        "colab": {
          "base_uri": "https://localhost:8080/",
          "height": 937
        },
        "id": "BF5mEB3A4Luh",
        "outputId": "98d6f2bf-685f-4f4d-894b-2d205c641a95"
      },
      "outputs": [
        {
          "output_type": "display_data",
          "data": {
            "text/plain": [
              "<Figure size 1000x1000 with 2 Axes>"
            ],
            "image/png": "[encoded data removed]"
          },
          "metadata": {}
        }
      ],
      "source": [
        "plt.figure(figsize = (10,10))\n",
        "sns.heatmap(df.corr(), annot = True, linecolor = 'black', linewidths = 1)\n",
        "plt.show()"
      ]
    },
    {
      "cell_type": "code",
      "execution_count": 15,
      "metadata": {
        "id": "0fJs28l0Hmft"
      },
      "outputs": [],
      "source": [
        "# oldbalanceDest and newbalanceDest \n",
        "# newbalanceDest and oldbalanceDest\n",
        "#   having strong Correlation\n",
        "\n",
        "# oldbalanceOrg and oldbalanceDest\n",
        "# newbalanceOrig and oldbalanceDest\n",
        "# oldbalanceDest and oldbalanceOrg\n",
        "# oldbalanceDest and newbalanceOrig\n",
        "#   having Correlation"
      ]
    },
    {
      "cell_type": "code",
      "execution_count": 16,
      "metadata": {
        "colab": {
          "base_uri": "https://localhost:8080/"
        },
        "id": "tb2L6wHXK6D2",
        "outputId": "0a7d4a08-9a4d-43c6-b4d6-7abb65dd34c6"
      },
      "outputs": [
        {
          "output_type": "stream",
          "name": "stdout",
          "text": [
            "          feature         VIF\n",
            "0            step    2.888220\n",
            "1            type    4.220058\n",
            "2          amount    1.983962\n",
            "3   oldbalanceOrg  843.137415\n",
            "4  newbalanceOrig  857.222035\n",
            "5  oldbalanceDest   34.386109\n",
            "6  newbalanceDest   37.033517\n"
          ]
        }
      ],
      "source": [
        "from statsmodels.stats.outliers_influence import variance_inflation_factor\n",
        "\n",
        "# Detecting Multicollinearity with VIF\n",
        "\n",
        "#vif_feature = ['step','type','amount','oldbalanceOrg','newbalanceOrig','oldbalanceDest','newbalanceDest']\n",
        "\n",
        "vif_data = pd.DataFrame()                         \n",
        "vif_data[\"feature\"] = dfc.columns\n",
        "vif_data[\"VIF\"] = [variance_inflation_factor(dfc.values, i)\n",
        "                          for i in range(len(dfc.columns))]\n",
        "print(vif_data)"
      ]
    },
    {
      "cell_type": "code",
      "execution_count": 17,
      "metadata": {
        "id": "5Tu0sd6FLBwU"
      },
      "outputs": [],
      "source": [
        "#  This VIF indicating that these two variables i.e., oldbalanceOrg and newbalanceOrig are highly correlated"
      ]
    },
    {
      "cell_type": "markdown",
      "metadata": {
        "id": "BcXVdO5HvH3L"
      },
      "source": [
        "**2. Describe your fraud detection model in elaboration.**"
      ]
    },
    {
      "cell_type": "code",
      "source": [
        "df.loc[df.isFraud == 1].type.values\n",
        "# is seams fraud has done by 'TRANSFER' and 'CASH_OUT' only."
      ],
      "metadata": {
        "colab": {
          "base_uri": "https://localhost:8080/"
        },
        "id": "tS2QDxtPcrOk",
        "outputId": "18a951e8-fc46-42e5-9289-d2cdb0d3bbf0"
      },
      "execution_count": 18,
      "outputs": [
        {
          "output_type": "execute_result",
          "data": {
            "text/plain": [
              "array(['TRANSFER', 'CASH_OUT', 'TRANSFER', 'CASH_OUT', 'TRANSFER',\n",
              "       'CASH_OUT', 'CASH_OUT', 'TRANSFER', 'CASH_OUT', 'TRANSFER',\n",
              "       'CASH_OUT', 'TRANSFER', 'CASH_OUT', 'CASH_OUT', 'TRANSFER',\n",
              "       'CASH_OUT', 'TRANSFER', 'CASH_OUT', 'TRANSFER', 'CASH_OUT',\n",
              "       'TRANSFER', 'CASH_OUT', 'TRANSFER', 'CASH_OUT', 'TRANSFER',\n",
              "       'CASH_OUT', 'TRANSFER', 'CASH_OUT', 'TRANSFER', 'CASH_OUT',\n",
              "       'TRANSFER', 'CASH_OUT', 'TRANSFER', 'CASH_OUT', 'TRANSFER',\n",
              "       'CASH_OUT', 'TRANSFER', 'CASH_OUT', 'TRANSFER', 'CASH_OUT',\n",
              "       'TRANSFER', 'CASH_OUT', 'TRANSFER', 'CASH_OUT', 'TRANSFER',\n",
              "       'CASH_OUT', 'TRANSFER', 'CASH_OUT', 'TRANSFER', 'CASH_OUT',\n",
              "       'TRANSFER', 'CASH_OUT', 'TRANSFER', 'CASH_OUT', 'TRANSFER',\n",
              "       'CASH_OUT', 'TRANSFER', 'CASH_OUT', 'TRANSFER', 'CASH_OUT',\n",
              "       'TRANSFER', 'CASH_OUT', 'TRANSFER', 'CASH_OUT', 'TRANSFER',\n",
              "       'CASH_OUT', 'TRANSFER', 'CASH_OUT', 'TRANSFER', 'CASH_OUT',\n",
              "       'TRANSFER', 'CASH_OUT', 'TRANSFER', 'CASH_OUT', 'TRANSFER',\n",
              "       'CASH_OUT', 'TRANSFER', 'CASH_OUT', 'CASH_OUT', 'TRANSFER',\n",
              "       'CASH_OUT', 'TRANSFER', 'CASH_OUT', 'TRANSFER', 'TRANSFER',\n",
              "       'CASH_OUT', 'TRANSFER', 'CASH_OUT', 'TRANSFER', 'CASH_OUT',\n",
              "       'TRANSFER', 'CASH_OUT', 'TRANSFER', 'CASH_OUT', 'TRANSFER',\n",
              "       'CASH_OUT', 'TRANSFER', 'CASH_OUT', 'TRANSFER', 'CASH_OUT',\n",
              "       'TRANSFER', 'CASH_OUT', 'TRANSFER', 'CASH_OUT', 'TRANSFER',\n",
              "       'TRANSFER', 'CASH_OUT', 'TRANSFER', 'CASH_OUT', 'TRANSFER',\n",
              "       'CASH_OUT', 'CASH_OUT', 'TRANSFER', 'CASH_OUT', 'TRANSFER',\n",
              "       'CASH_OUT', 'TRANSFER', 'CASH_OUT', 'TRANSFER', 'CASH_OUT',\n",
              "       'TRANSFER', 'CASH_OUT', 'TRANSFER', 'TRANSFER', 'CASH_OUT',\n",
              "       'TRANSFER', 'CASH_OUT', 'TRANSFER', 'CASH_OUT', 'TRANSFER',\n",
              "       'CASH_OUT', 'TRANSFER', 'CASH_OUT', 'TRANSFER', 'CASH_OUT',\n",
              "       'CASH_OUT', 'TRANSFER', 'CASH_OUT', 'CASH_OUT', 'TRANSFER',\n",
              "       'CASH_OUT', 'TRANSFER', 'CASH_OUT', 'TRANSFER', 'CASH_OUT',\n",
              "       'TRANSFER', 'CASH_OUT', 'CASH_OUT', 'TRANSFER', 'CASH_OUT',\n",
              "       'TRANSFER', 'CASH_OUT', 'TRANSFER', 'CASH_OUT', 'TRANSFER',\n",
              "       'TRANSFER', 'CASH_OUT', 'TRANSFER', 'CASH_OUT', 'TRANSFER',\n",
              "       'CASH_OUT', 'TRANSFER', 'CASH_OUT', 'TRANSFER', 'CASH_OUT',\n",
              "       'TRANSFER', 'CASH_OUT', 'TRANSFER', 'CASH_OUT', 'TRANSFER',\n",
              "       'CASH_OUT', 'TRANSFER', 'CASH_OUT', 'TRANSFER', 'CASH_OUT',\n",
              "       'TRANSFER', 'CASH_OUT', 'TRANSFER', 'CASH_OUT', 'CASH_OUT',\n",
              "       'CASH_OUT', 'TRANSFER', 'CASH_OUT', 'TRANSFER', 'CASH_OUT',\n",
              "       'TRANSFER', 'CASH_OUT', 'TRANSFER', 'CASH_OUT', 'TRANSFER',\n",
              "       'CASH_OUT', 'TRANSFER', 'CASH_OUT', 'TRANSFER', 'CASH_OUT',\n",
              "       'TRANSFER', 'CASH_OUT', 'TRANSFER', 'CASH_OUT', 'TRANSFER',\n",
              "       'CASH_OUT', 'TRANSFER', 'CASH_OUT', 'CASH_OUT', 'TRANSFER',\n",
              "       'CASH_OUT', 'TRANSFER', 'CASH_OUT', 'CASH_OUT', 'TRANSFER',\n",
              "       'CASH_OUT', 'TRANSFER', 'CASH_OUT', 'TRANSFER', 'CASH_OUT',\n",
              "       'TRANSFER', 'CASH_OUT', 'CASH_OUT', 'TRANSFER', 'CASH_OUT',\n",
              "       'TRANSFER', 'CASH_OUT', 'TRANSFER', 'CASH_OUT', 'CASH_OUT',\n",
              "       'TRANSFER', 'CASH_OUT', 'TRANSFER', 'CASH_OUT', 'TRANSFER',\n",
              "       'CASH_OUT', 'TRANSFER', 'CASH_OUT', 'TRANSFER', 'CASH_OUT',\n",
              "       'TRANSFER', 'CASH_OUT', 'TRANSFER', 'CASH_OUT', 'CASH_OUT',\n",
              "       'TRANSFER', 'CASH_OUT', 'TRANSFER', 'CASH_OUT', 'TRANSFER',\n",
              "       'CASH_OUT', 'TRANSFER', 'CASH_OUT', 'TRANSFER', 'CASH_OUT',\n",
              "       'TRANSFER', 'CASH_OUT', 'TRANSFER', 'CASH_OUT', 'TRANSFER',\n",
              "       'CASH_OUT', 'CASH_OUT', 'TRANSFER', 'CASH_OUT', 'TRANSFER',\n",
              "       'CASH_OUT', 'TRANSFER', 'CASH_OUT', 'TRANSFER', 'CASH_OUT',\n",
              "       'TRANSFER', 'CASH_OUT', 'TRANSFER', 'CASH_OUT', 'TRANSFER',\n",
              "       'CASH_OUT', 'TRANSFER', 'CASH_OUT', 'TRANSFER', 'CASH_OUT',\n",
              "       'TRANSFER', 'CASH_OUT', 'TRANSFER', 'CASH_OUT', 'TRANSFER',\n",
              "       'CASH_OUT', 'TRANSFER', 'CASH_OUT', 'TRANSFER', 'CASH_OUT',\n",
              "       'TRANSFER', 'CASH_OUT', 'TRANSFER', 'CASH_OUT', 'TRANSFER',\n",
              "       'CASH_OUT', 'TRANSFER', 'CASH_OUT', 'TRANSFER', 'CASH_OUT',\n",
              "       'TRANSFER', 'CASH_OUT', 'TRANSFER', 'CASH_OUT', 'TRANSFER',\n",
              "       'CASH_OUT', 'TRANSFER', 'CASH_OUT', 'TRANSFER', 'CASH_OUT',\n",
              "       'TRANSFER', 'CASH_OUT', 'TRANSFER', 'CASH_OUT', 'TRANSFER',\n",
              "       'CASH_OUT', 'TRANSFER', 'CASH_OUT', 'TRANSFER', 'CASH_OUT',\n",
              "       'TRANSFER', 'CASH_OUT', 'TRANSFER', 'CASH_OUT', 'TRANSFER',\n",
              "       'CASH_OUT', 'TRANSFER', 'CASH_OUT', 'TRANSFER', 'CASH_OUT',\n",
              "       'TRANSFER', 'CASH_OUT', 'TRANSFER', 'CASH_OUT', 'TRANSFER',\n",
              "       'CASH_OUT', 'TRANSFER', 'CASH_OUT', 'TRANSFER', 'CASH_OUT',\n",
              "       'TRANSFER', 'CASH_OUT', 'TRANSFER', 'CASH_OUT', 'TRANSFER',\n",
              "       'CASH_OUT', 'TRANSFER', 'CASH_OUT', 'TRANSFER', 'CASH_OUT',\n",
              "       'TRANSFER', 'CASH_OUT', 'TRANSFER', 'CASH_OUT', 'TRANSFER',\n",
              "       'CASH_OUT', 'TRANSFER', 'CASH_OUT', 'TRANSFER', 'CASH_OUT',\n",
              "       'TRANSFER', 'CASH_OUT', 'TRANSFER', 'CASH_OUT', 'TRANSFER',\n",
              "       'CASH_OUT', 'TRANSFER', 'CASH_OUT', 'TRANSFER', 'CASH_OUT',\n",
              "       'TRANSFER', 'CASH_OUT', 'TRANSFER', 'CASH_OUT', 'TRANSFER',\n",
              "       'CASH_OUT', 'TRANSFER', 'CASH_OUT', 'TRANSFER', 'CASH_OUT',\n",
              "       'TRANSFER', 'CASH_OUT', 'TRANSFER', 'CASH_OUT', 'TRANSFER',\n",
              "       'CASH_OUT', 'TRANSFER', 'CASH_OUT', 'TRANSFER', 'CASH_OUT',\n",
              "       'TRANSFER', 'CASH_OUT', 'TRANSFER', 'CASH_OUT', 'CASH_OUT',\n",
              "       'TRANSFER', 'CASH_OUT', 'TRANSFER', 'CASH_OUT', 'TRANSFER',\n",
              "       'CASH_OUT', 'TRANSFER', 'CASH_OUT', 'TRANSFER', 'CASH_OUT',\n",
              "       'TRANSFER', 'CASH_OUT', 'TRANSFER', 'CASH_OUT', 'TRANSFER',\n",
              "       'CASH_OUT', 'TRANSFER', 'CASH_OUT', 'TRANSFER', 'CASH_OUT',\n",
              "       'TRANSFER', 'CASH_OUT', 'TRANSFER', 'CASH_OUT', 'CASH_OUT',\n",
              "       'TRANSFER', 'CASH_OUT', 'TRANSFER', 'CASH_OUT', 'TRANSFER',\n",
              "       'CASH_OUT', 'TRANSFER', 'CASH_OUT', 'TRANSFER', 'CASH_OUT',\n",
              "       'TRANSFER', 'CASH_OUT', 'TRANSFER', 'CASH_OUT', 'CASH_OUT',\n",
              "       'TRANSFER', 'CASH_OUT', 'TRANSFER', 'CASH_OUT', 'CASH_OUT',\n",
              "       'TRANSFER', 'CASH_OUT', 'TRANSFER', 'CASH_OUT', 'TRANSFER',\n",
              "       'CASH_OUT', 'TRANSFER', 'CASH_OUT', 'CASH_OUT', 'TRANSFER',\n",
              "       'CASH_OUT', 'TRANSFER', 'CASH_OUT', 'TRANSFER', 'CASH_OUT',\n",
              "       'TRANSFER', 'CASH_OUT', 'TRANSFER', 'CASH_OUT', 'TRANSFER',\n",
              "       'CASH_OUT', 'TRANSFER', 'CASH_OUT', 'TRANSFER', 'CASH_OUT',\n",
              "       'TRANSFER', 'CASH_OUT', 'TRANSFER', 'CASH_OUT', 'TRANSFER',\n",
              "       'CASH_OUT', 'TRANSFER', 'CASH_OUT', 'TRANSFER', 'CASH_OUT',\n",
              "       'TRANSFER', 'CASH_OUT', 'TRANSFER', 'CASH_OUT', 'TRANSFER',\n",
              "       'CASH_OUT', 'TRANSFER', 'CASH_OUT', 'TRANSFER', 'CASH_OUT',\n",
              "       'TRANSFER', 'CASH_OUT', 'TRANSFER', 'CASH_OUT', 'TRANSFER',\n",
              "       'CASH_OUT', 'TRANSFER', 'CASH_OUT', 'TRANSFER', 'CASH_OUT'],\n",
              "      dtype=object)"
            ]
          },
          "metadata": {},
          "execution_count": 18
        }
      ]
    },
    {
      "cell_type": "code",
      "source": [
        "df_transfer = df.loc[(df.isFraud == 1) & (df.type == 'TRANSFER')]\n",
        "print('No. of Fraud by Transfer - {}'.format(len(df_transfer)))"
      ],
      "metadata": {
        "id": "5KCGJgFLb-Vd",
        "colab": {
          "base_uri": "https://localhost:8080/"
        },
        "outputId": "be13fe95-c898-4e6d-d3e8-636f44be1756"
      },
      "execution_count": 22,
      "outputs": [
        {
          "output_type": "stream",
          "name": "stdout",
          "text": [
            "No. of Fraud by Transfer - 237\n"
          ]
        }
      ]
    },
    {
      "cell_type": "code",
      "source": [
        "df_cashout = df.loc[(df.isFraud == 1) & (df.type == 'CASH_OUT')]\n",
        "print('No. of Fraud by CashOut - {}'.format(len(df_cashout)))"
      ],
      "metadata": {
        "id": "HmKnUD5Mem0V",
        "colab": {
          "base_uri": "https://localhost:8080/"
        },
        "outputId": "b0adc8b4-d8f9-495d-9102-bbb698b9bf73"
      },
      "execution_count": 23,
      "outputs": [
        {
          "output_type": "stream",
          "name": "stdout",
          "text": [
            "No. of Fraud by CashOut - 253\n"
          ]
        }
      ]
    },
    {
      "cell_type": "markdown",
      "metadata": {
        "id": "5aZ0XmmgvRAz"
      },
      "source": [
        "**3. How did you select variables to be included in the model?**"
      ]
    },
    {
      "cell_type": "code",
      "source": [
        "# Thus the fraud had done by two 'Type' of Transaction \n",
        "# 1. by 'TRANSFER'\n",
        "# 2. by 'CASH_OUT'"
      ],
      "metadata": {
        "id": "INodecyPieGx"
      },
      "execution_count": null,
      "outputs": []
    },
    {
      "cell_type": "code",
      "source": [
        "# As checked by multi-collinearity with VIF, oldbalanceOrg and newbalanceOrig \n",
        "# are highly correlated which had helped to select the model. "
      ],
      "metadata": {
        "id": "zlOOPZQRieIf"
      },
      "execution_count": null,
      "outputs": []
    },
    {
      "cell_type": "markdown",
      "metadata": {
        "id": "1Ba-_AEhvX-S"
      },
      "source": [
        "**4. Demonstrate the performance of the model by using best set of tools.**"
      ]
    },
    {
      "cell_type": "markdown",
      "metadata": {
        "id": "owviphcKvYHZ"
      },
      "source": [
        "**5. What are the key factors that predict fraudulent customer?**"
      ]
    },
    {
      "cell_type": "markdown",
      "metadata": {
        "id": "L2pmPTrPvYSJ"
      },
      "source": [
        "**6. Do these factors make sense? If yes, How? If not, How not?**"
      ]
    },
    {
      "cell_type": "markdown",
      "metadata": {
        "id": "PItw0MjCvktT"
      },
      "source": [
        "**7. What kind of prevention should be adopted while company update its infrastructure?**"
      ]
    },
    {
      "cell_type": "markdown",
      "metadata": {
        "id": "LYSYyyr8vpQ1"
      },
      "source": [
        "**8. Assuming these actions have been implemented, how would you determine if they work?**"
      ]
    }
  ],
  "metadata": {
    "colab": {
      "provenance": []
    },
    "kernelspec": {
      "display_name": "Python 3",
      "name": "python3"
    },
    "language_info": {
      "name": "python"
    }
  },
  "nbformat": 4,
  "nbformat_minor": 0
}